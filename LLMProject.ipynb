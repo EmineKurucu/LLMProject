{
  "nbformat": 4,
  "nbformat_minor": 0,
  "metadata": {
    "colab": {
      "provenance": [],
      "authorship_tag": "ABX9TyP+IVLXmVEMoJUoUqxl7cGz",
      "include_colab_link": true
    },
    "kernelspec": {
      "name": "python3",
      "display_name": "Python 3"
    },
    "language_info": {
      "name": "python"
    }
  },
  "cells": [
    {
      "cell_type": "markdown",
      "metadata": {
        "id": "view-in-github",
        "colab_type": "text"
      },
      "source": [
        "<a href=\"https://colab.research.google.com/github/EmineKurucu/LLMProject/blob/main/LLMProject.ipynb\" target=\"_parent\"><img src=\"https://colab.research.google.com/assets/colab-badge.svg\" alt=\"Open In Colab\"/></a>"
      ]
    },
    {
      "cell_type": "markdown",
      "source": [
        "**Kütüphaneler eklendi**"
      ],
      "metadata": {
        "id": "6FN6-7-V5hKw"
      }
    },
    {
      "cell_type": "code",
      "execution_count": 16,
      "metadata": {
        "id": "O2AhMIocu-as",
        "colab": {
          "base_uri": "https://localhost:8080/"
        },
        "outputId": "ad0a98c7-226c-4aeb-a931-3b12d1d5f2a1"
      },
      "outputs": [
        {
          "output_type": "stream",
          "name": "stdout",
          "text": [
            "Requirement already satisfied: openai in /usr/local/lib/python3.11/dist-packages (1.61.1)\n",
            "Requirement already satisfied: anyio<5,>=3.5.0 in /usr/local/lib/python3.11/dist-packages (from openai) (3.7.1)\n",
            "Requirement already satisfied: distro<2,>=1.7.0 in /usr/local/lib/python3.11/dist-packages (from openai) (1.9.0)\n",
            "Requirement already satisfied: httpx<1,>=0.23.0 in /usr/local/lib/python3.11/dist-packages (from openai) (0.28.1)\n",
            "Requirement already satisfied: jiter<1,>=0.4.0 in /usr/local/lib/python3.11/dist-packages (from openai) (0.8.2)\n",
            "Requirement already satisfied: pydantic<3,>=1.9.0 in /usr/local/lib/python3.11/dist-packages (from openai) (2.10.6)\n",
            "Requirement already satisfied: sniffio in /usr/local/lib/python3.11/dist-packages (from openai) (1.3.1)\n",
            "Requirement already satisfied: tqdm>4 in /usr/local/lib/python3.11/dist-packages (from openai) (4.67.1)\n",
            "Requirement already satisfied: typing-extensions<5,>=4.11 in /usr/local/lib/python3.11/dist-packages (from openai) (4.12.2)\n",
            "Requirement already satisfied: idna>=2.8 in /usr/local/lib/python3.11/dist-packages (from anyio<5,>=3.5.0->openai) (3.10)\n",
            "Requirement already satisfied: certifi in /usr/local/lib/python3.11/dist-packages (from httpx<1,>=0.23.0->openai) (2025.1.31)\n",
            "Requirement already satisfied: httpcore==1.* in /usr/local/lib/python3.11/dist-packages (from httpx<1,>=0.23.0->openai) (1.0.7)\n",
            "Requirement already satisfied: h11<0.15,>=0.13 in /usr/local/lib/python3.11/dist-packages (from httpcore==1.*->httpx<1,>=0.23.0->openai) (0.14.0)\n",
            "Requirement already satisfied: annotated-types>=0.6.0 in /usr/local/lib/python3.11/dist-packages (from pydantic<3,>=1.9.0->openai) (0.7.0)\n",
            "Requirement already satisfied: pydantic-core==2.27.2 in /usr/local/lib/python3.11/dist-packages (from pydantic<3,>=1.9.0->openai) (2.27.2)\n",
            "Requirement already satisfied: PyPDF2 in /usr/local/lib/python3.11/dist-packages (3.0.1)\n",
            "Reading package lists... Done\n",
            "Building dependency tree... Done\n",
            "Reading state information... Done\n",
            "libnanomsg-dev is already the newest version (1.1.5+dfsg-1).\n",
            "0 upgraded, 0 newly installed, 0 to remove and 29 not upgraded.\n",
            "Requirement already satisfied: nanomsg in /usr/local/lib/python3.11/dist-packages (1.0)\n",
            "Requirement already satisfied: oi in /usr/local/lib/python3.11/dist-packages (0.4.2)\n",
            "Requirement already satisfied: nose in /usr/local/lib/python3.11/dist-packages (from oi) (1.3.7)\n",
            "Requirement already satisfied: nanomsg in /usr/local/lib/python3.11/dist-packages (from oi) (1.0)\n",
            "Requirement already satisfied: nanoservice in /usr/local/lib/python3.11/dist-packages (from oi) (0.7.2)\n",
            "Requirement already satisfied: colorama in /usr/local/lib/python3.11/dist-packages (from oi) (0.4.6)\n",
            "Requirement already satisfied: msgpack-python in /usr/local/lib/python3.11/dist-packages (from nanoservice->oi) (0.5.6)\n"
          ]
        }
      ],
      "source": [
        "!pip install openai\n",
        "!pip install PyPDF2\n",
        "!apt-get install libnanomsg-dev\n",
        "!pip install nanomsg\n",
        "!pip install oi\n",
        "\n",
        "import openai\n",
        "import os\n",
        "from google.colab import files\n",
        "import pandas as pd\n",
        "import PyPDF2\n",
        "import oi\n",
        "\n"
      ]
    },
    {
      "cell_type": "code",
      "source": [],
      "metadata": {
        "id": "zVepMD1hApWH"
      },
      "execution_count": null,
      "outputs": []
    }
  ]
}