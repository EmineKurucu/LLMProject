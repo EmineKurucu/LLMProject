{
  "nbformat": 4,
  "nbformat_minor": 0,
  "metadata": {
    "colab": {
      "provenance": [],
      "authorship_tag": "ABX9TyO150Q8GIGoHwrRevktXSWj",
      "include_colab_link": true
    },
    "kernelspec": {
      "name": "python3",
      "display_name": "Python 3"
    },
    "language_info": {
      "name": "python"
    }
  },
  "cells": [
    {
      "cell_type": "markdown",
      "metadata": {
        "id": "view-in-github",
        "colab_type": "text"
      },
      "source": [
        "<a href=\"https://colab.research.google.com/github/EmineKurucu/LLMProject/blob/main/LLMProject.ipynb\" target=\"_parent\"><img src=\"https://colab.research.google.com/assets/colab-badge.svg\" alt=\"Open In Colab\"/></a>"
      ]
    },
    {
      "cell_type": "markdown",
      "source": [
        "**Kütüphaneler eklendi**"
      ],
      "metadata": {
        "id": "6FN6-7-V5hKw"
      }
    },
    {
      "cell_type": "code",
      "execution_count": 1,
      "metadata": {
        "id": "O2AhMIocu-as",
        "colab": {
          "base_uri": "https://localhost:8080/"
        },
        "outputId": "fcaf13f3-a6e6-4eac-eb7a-231f76a01214",
        "collapsed": true
      },
      "outputs": [
        {
          "output_type": "stream",
          "name": "stdout",
          "text": [
            "Requirement already satisfied: requests in /usr/local/lib/python3.11/dist-packages (2.32.3)\n",
            "Requirement already satisfied: charset-normalizer<4,>=2 in /usr/local/lib/python3.11/dist-packages (from requests) (3.4.1)\n",
            "Requirement already satisfied: idna<4,>=2.5 in /usr/local/lib/python3.11/dist-packages (from requests) (3.10)\n",
            "Requirement already satisfied: urllib3<3,>=1.21.1 in /usr/local/lib/python3.11/dist-packages (from requests) (2.3.0)\n",
            "Requirement already satisfied: certifi>=2017.4.17 in /usr/local/lib/python3.11/dist-packages (from requests) (2025.1.31)\n",
            "Requirement already satisfied: PyPDF2 in /usr/local/lib/python3.11/dist-packages (3.0.1)\n",
            "Requirement already satisfied: transformers in /usr/local/lib/python3.11/dist-packages (4.48.3)\n",
            "Requirement already satisfied: filelock in /usr/local/lib/python3.11/dist-packages (from transformers) (3.17.0)\n",
            "Requirement already satisfied: huggingface-hub<1.0,>=0.24.0 in /usr/local/lib/python3.11/dist-packages (from transformers) (0.28.1)\n",
            "Requirement already satisfied: numpy>=1.17 in /usr/local/lib/python3.11/dist-packages (from transformers) (1.26.4)\n",
            "Requirement already satisfied: packaging>=20.0 in /usr/local/lib/python3.11/dist-packages (from transformers) (24.2)\n",
            "Requirement already satisfied: pyyaml>=5.1 in /usr/local/lib/python3.11/dist-packages (from transformers) (6.0.2)\n",
            "Requirement already satisfied: regex!=2019.12.17 in /usr/local/lib/python3.11/dist-packages (from transformers) (2024.11.6)\n",
            "Requirement already satisfied: requests in /usr/local/lib/python3.11/dist-packages (from transformers) (2.32.3)\n",
            "Requirement already satisfied: tokenizers<0.22,>=0.21 in /usr/local/lib/python3.11/dist-packages (from transformers) (0.21.0)\n",
            "Requirement already satisfied: safetensors>=0.4.1 in /usr/local/lib/python3.11/dist-packages (from transformers) (0.5.3)\n",
            "Requirement already satisfied: tqdm>=4.27 in /usr/local/lib/python3.11/dist-packages (from transformers) (4.67.1)\n",
            "Requirement already satisfied: fsspec>=2023.5.0 in /usr/local/lib/python3.11/dist-packages (from huggingface-hub<1.0,>=0.24.0->transformers) (2024.10.0)\n",
            "Requirement already satisfied: typing-extensions>=3.7.4.3 in /usr/local/lib/python3.11/dist-packages (from huggingface-hub<1.0,>=0.24.0->transformers) (4.12.2)\n",
            "Requirement already satisfied: charset-normalizer<4,>=2 in /usr/local/lib/python3.11/dist-packages (from requests->transformers) (3.4.1)\n",
            "Requirement already satisfied: idna<4,>=2.5 in /usr/local/lib/python3.11/dist-packages (from requests->transformers) (3.10)\n",
            "Requirement already satisfied: urllib3<3,>=1.21.1 in /usr/local/lib/python3.11/dist-packages (from requests->transformers) (2.3.0)\n",
            "Requirement already satisfied: certifi>=2017.4.17 in /usr/local/lib/python3.11/dist-packages (from requests->transformers) (2025.1.31)\n",
            "Requirement already satisfied: gradio in /usr/local/lib/python3.11/dist-packages (5.20.1)\n",
            "Requirement already satisfied: aiofiles<24.0,>=22.0 in /usr/local/lib/python3.11/dist-packages (from gradio) (23.2.1)\n",
            "Requirement already satisfied: anyio<5.0,>=3.0 in /usr/local/lib/python3.11/dist-packages (from gradio) (3.7.1)\n",
            "Requirement already satisfied: fastapi<1.0,>=0.115.2 in /usr/local/lib/python3.11/dist-packages (from gradio) (0.115.11)\n",
            "Requirement already satisfied: ffmpy in /usr/local/lib/python3.11/dist-packages (from gradio) (0.5.0)\n",
            "Requirement already satisfied: gradio-client==1.7.2 in /usr/local/lib/python3.11/dist-packages (from gradio) (1.7.2)\n",
            "Requirement already satisfied: groovy~=0.1 in /usr/local/lib/python3.11/dist-packages (from gradio) (0.1.2)\n",
            "Requirement already satisfied: httpx>=0.24.1 in /usr/local/lib/python3.11/dist-packages (from gradio) (0.28.1)\n",
            "Requirement already satisfied: huggingface-hub>=0.28.1 in /usr/local/lib/python3.11/dist-packages (from gradio) (0.28.1)\n",
            "Requirement already satisfied: jinja2<4.0 in /usr/local/lib/python3.11/dist-packages (from gradio) (3.1.6)\n",
            "Requirement already satisfied: markupsafe~=2.0 in /usr/local/lib/python3.11/dist-packages (from gradio) (2.1.5)\n",
            "Requirement already satisfied: numpy<3.0,>=1.0 in /usr/local/lib/python3.11/dist-packages (from gradio) (1.26.4)\n",
            "Requirement already satisfied: orjson~=3.0 in /usr/local/lib/python3.11/dist-packages (from gradio) (3.10.15)\n",
            "Requirement already satisfied: packaging in /usr/local/lib/python3.11/dist-packages (from gradio) (24.2)\n",
            "Requirement already satisfied: pandas<3.0,>=1.0 in /usr/local/lib/python3.11/dist-packages (from gradio) (2.2.2)\n",
            "Requirement already satisfied: pillow<12.0,>=8.0 in /usr/local/lib/python3.11/dist-packages (from gradio) (11.1.0)\n",
            "Requirement already satisfied: pydantic>=2.0 in /usr/local/lib/python3.11/dist-packages (from gradio) (2.10.6)\n",
            "Requirement already satisfied: pydub in /usr/local/lib/python3.11/dist-packages (from gradio) (0.25.1)\n",
            "Requirement already satisfied: python-multipart>=0.0.18 in /usr/local/lib/python3.11/dist-packages (from gradio) (0.0.20)\n",
            "Requirement already satisfied: pyyaml<7.0,>=5.0 in /usr/local/lib/python3.11/dist-packages (from gradio) (6.0.2)\n",
            "Requirement already satisfied: ruff>=0.9.3 in /usr/local/lib/python3.11/dist-packages (from gradio) (0.9.10)\n",
            "Requirement already satisfied: safehttpx<0.2.0,>=0.1.6 in /usr/local/lib/python3.11/dist-packages (from gradio) (0.1.6)\n",
            "Requirement already satisfied: semantic-version~=2.0 in /usr/local/lib/python3.11/dist-packages (from gradio) (2.10.0)\n",
            "Requirement already satisfied: starlette<1.0,>=0.40.0 in /usr/local/lib/python3.11/dist-packages (from gradio) (0.46.1)\n",
            "Requirement already satisfied: tomlkit<0.14.0,>=0.12.0 in /usr/local/lib/python3.11/dist-packages (from gradio) (0.13.2)\n",
            "Requirement already satisfied: typer<1.0,>=0.12 in /usr/local/lib/python3.11/dist-packages (from gradio) (0.15.2)\n",
            "Requirement already satisfied: typing-extensions~=4.0 in /usr/local/lib/python3.11/dist-packages (from gradio) (4.12.2)\n",
            "Requirement already satisfied: uvicorn>=0.14.0 in /usr/local/lib/python3.11/dist-packages (from gradio) (0.34.0)\n",
            "Requirement already satisfied: fsspec in /usr/local/lib/python3.11/dist-packages (from gradio-client==1.7.2->gradio) (2024.10.0)\n",
            "Requirement already satisfied: websockets<16.0,>=10.0 in /usr/local/lib/python3.11/dist-packages (from gradio-client==1.7.2->gradio) (14.2)\n",
            "Requirement already satisfied: idna>=2.8 in /usr/local/lib/python3.11/dist-packages (from anyio<5.0,>=3.0->gradio) (3.10)\n",
            "Requirement already satisfied: sniffio>=1.1 in /usr/local/lib/python3.11/dist-packages (from anyio<5.0,>=3.0->gradio) (1.3.1)\n",
            "Requirement already satisfied: certifi in /usr/local/lib/python3.11/dist-packages (from httpx>=0.24.1->gradio) (2025.1.31)\n",
            "Requirement already satisfied: httpcore==1.* in /usr/local/lib/python3.11/dist-packages (from httpx>=0.24.1->gradio) (1.0.7)\n",
            "Requirement already satisfied: h11<0.15,>=0.13 in /usr/local/lib/python3.11/dist-packages (from httpcore==1.*->httpx>=0.24.1->gradio) (0.14.0)\n",
            "Requirement already satisfied: filelock in /usr/local/lib/python3.11/dist-packages (from huggingface-hub>=0.28.1->gradio) (3.17.0)\n",
            "Requirement already satisfied: requests in /usr/local/lib/python3.11/dist-packages (from huggingface-hub>=0.28.1->gradio) (2.32.3)\n",
            "Requirement already satisfied: tqdm>=4.42.1 in /usr/local/lib/python3.11/dist-packages (from huggingface-hub>=0.28.1->gradio) (4.67.1)\n",
            "Requirement already satisfied: python-dateutil>=2.8.2 in /usr/local/lib/python3.11/dist-packages (from pandas<3.0,>=1.0->gradio) (2.8.2)\n",
            "Requirement already satisfied: pytz>=2020.1 in /usr/local/lib/python3.11/dist-packages (from pandas<3.0,>=1.0->gradio) (2025.1)\n",
            "Requirement already satisfied: tzdata>=2022.7 in /usr/local/lib/python3.11/dist-packages (from pandas<3.0,>=1.0->gradio) (2025.1)\n",
            "Requirement already satisfied: annotated-types>=0.6.0 in /usr/local/lib/python3.11/dist-packages (from pydantic>=2.0->gradio) (0.7.0)\n",
            "Requirement already satisfied: pydantic-core==2.27.2 in /usr/local/lib/python3.11/dist-packages (from pydantic>=2.0->gradio) (2.27.2)\n",
            "Requirement already satisfied: click>=8.0.0 in /usr/local/lib/python3.11/dist-packages (from typer<1.0,>=0.12->gradio) (8.1.8)\n",
            "Requirement already satisfied: shellingham>=1.3.0 in /usr/local/lib/python3.11/dist-packages (from typer<1.0,>=0.12->gradio) (1.5.4)\n",
            "Requirement already satisfied: rich>=10.11.0 in /usr/local/lib/python3.11/dist-packages (from typer<1.0,>=0.12->gradio) (13.9.4)\n",
            "Requirement already satisfied: six>=1.5 in /usr/local/lib/python3.11/dist-packages (from python-dateutil>=2.8.2->pandas<3.0,>=1.0->gradio) (1.17.0)\n",
            "Requirement already satisfied: markdown-it-py>=2.2.0 in /usr/local/lib/python3.11/dist-packages (from rich>=10.11.0->typer<1.0,>=0.12->gradio) (3.0.0)\n",
            "Requirement already satisfied: pygments<3.0.0,>=2.13.0 in /usr/local/lib/python3.11/dist-packages (from rich>=10.11.0->typer<1.0,>=0.12->gradio) (2.18.0)\n",
            "Requirement already satisfied: charset-normalizer<4,>=2 in /usr/local/lib/python3.11/dist-packages (from requests->huggingface-hub>=0.28.1->gradio) (3.4.1)\n",
            "Requirement already satisfied: urllib3<3,>=1.21.1 in /usr/local/lib/python3.11/dist-packages (from requests->huggingface-hub>=0.28.1->gradio) (2.3.0)\n",
            "Requirement already satisfied: mdurl~=0.1 in /usr/local/lib/python3.11/dist-packages (from markdown-it-py>=2.2.0->rich>=10.11.0->typer<1.0,>=0.12->gradio) (0.1.2)\n"
          ]
        }
      ],
      "source": [
        "#!pip install requests\n",
        "#!pip install PyPDF2\n",
        "#!pip install transformers\n",
        "#!pip install gradio\n",
        "import os\n",
        "import re\n",
        "import time\n",
        "import requests\n",
        "from PyPDF2 import PdfReader\n",
        "from transformers import AutoTokenizer\n",
        "from tqdm import tqdm\n",
        "import gradio as gr\n"
      ]
    },
    {
      "cell_type": "code",
      "source": [
        "# Hugging Face API ayalamalarını yapıyoruz\n",
        "from google.colab import userdata\n",
        "secretAPI = userdata.get('HF_API_TOKEN')\n",
        "HF_API_TOKEN = secretAPI\n",
        "API_URL = \"https://api-inference.huggingface.co/models/meta-llama/Llama-3.1-8B-Instruct\"\n",
        "headers = {\"Authorization\" : f\"Bearer {HF_API_TOKEN}\"}\n",
        "\n",
        "# Tokinizer çağırma\n",
        "tokenizer = AutoTokinizer.from_pretrained(\"meta-llama/Meta-Llama-3-8B-Instruct\")\n",
        "max_token_limmit = 2048 # Model bağlamına göre ayarlandı.\n",
        "\n"
      ],
      "metadata": {
        "id": "zVepMD1hApWH",
        "colab": {
          "base_uri": "https://localhost:8080/",
          "height": 106
        },
        "outputId": "3564e697-8ad5-4e3d-dc82-23afbe4cab2e"
      },
      "execution_count": 2,
      "outputs": [
        {
          "output_type": "error",
          "ename": "SyntaxError",
          "evalue": "invalid syntax (<ipython-input-2-43ca3bd5d6ca>, line 2)",
          "traceback": [
            "\u001b[0;36m  File \u001b[0;32m\"<ipython-input-2-43ca3bd5d6ca>\"\u001b[0;36m, line \u001b[0;32m2\u001b[0m\n\u001b[0;31m    HF_API_TOKEN =\u001b[0m\n\u001b[0m                   ^\u001b[0m\n\u001b[0;31mSyntaxError\u001b[0m\u001b[0;31m:\u001b[0m invalid syntax\n"
          ]
        }
      ]
    },
    {
      "cell_type": "code",
      "source": [
        "# metni ayarlama\n",
        "def extarct_text_from_pdf(pdf_file):\n",
        "    # file'dan metni çıkarıyoruz\n",
        "    try:\n",
        "        reader = PdfReader(pdf_file)\n",
        "        text = \" \"\n",
        "        for page in reader.pages:\n",
        "            text += page.extract_text() + \"\\n\"\n",
        "        return text\n",
        "    except Exception as e:\n",
        "        return f\"Error extarcting text from the PDF: {str(e)}\"\n",
        "\n",
        "# text'te yer alan gereksiz boşlukları kaldırıyoruz\n",
        "def clean_text(text):\n",
        "    text = re.sub(r'\\s+', ' ', text )\n",
        "    text = re.sub('\\b\\d+\\b\\s*$', '', text, flags = re.MULTILINE )\n",
        "    return text.strip()\n",
        "\n",
        "\n",
        "\n"
      ],
      "metadata": {
        "id": "wyh0Az4123hT"
      },
      "execution_count": null,
      "outputs": []
    },
    {
      "cell_type": "code",
      "source": [
        "# text'i token'lara göre parçalara ayırıyoruz\n",
        "def chunk_text(text, max_tokens = max_token_limit - 500):\n",
        "  tokens = tokenzier.encode(text)\n",
        "  chunks = []\n",
        "\n",
        "  for i in range(0, len(tokens), max_tokens):\n",
        "    chunk_tokens = tokens[i:i + max_tokens]\n",
        "    chunk_text = tokenizer.decode(chunk_tokens)\n",
        "    chunks.append(chunk_text)\n",
        "\n",
        "  return chunks"
      ],
      "metadata": {
        "id": "zlQcmOiLEXWP"
      },
      "execution_count": null,
      "outputs": []
    },
    {
      "cell_type": "code",
      "source": [
        "# eğitimin  'instructions' larını yapılandırıyoruz\n",
        "def create_instruction_prompt(text_chunk, is_first_chunk = False, is_last_chunk = False ):\n",
        "  system_prompt = \"\"\"\n",
        "    You are an expert educational content developer. Transform the following text, which is part of a casual transcript, into a formal, structured educational document suitable for a classroom lecture.\n",
        "\n",
        "    Follow these guidelines:\n",
        "    1. Convert casual language to formal, academic language\n",
        "    2. Remove filler words, repetitions, and irrelevant tangents\n",
        "    3. Organize content logically with clear sections and transitions\n",
        "    4. Include relevant examples, case studies, or illustrations\n",
        "    5. Maintain the core technical information and expertise\n",
        "    6. Add appropriate educational elements (learning objectives, summaries, key points)\n",
        "\n",
        "    The output should be detailed, coherent, and structured like a professional teaching transcript.\n",
        "    \"\"\"\n",
        "    if is_first_chunk:\n",
        "      chunk_context = \"This is the beginning of the transkript. Start with an appropriate introduction.\"\n",
        "    elif is_last_chunk :\n",
        "      chunk_context = \"This is the end of the transkript.Include a proper conclusion and summary.\"\n",
        "    else:\n",
        "      chunk_context = \"This is a continuation of the transkript. Maintain consistency with previous context.\"\n",
        "\n",
        "    prompt = f\"<|system|>|n{system_prompt}\\n\\n{chunk_context}\\n\\n<|user|>\\nTransform this transcript excerpt into educational content:\\n\\n{text_chunk}\\n\\n<|assistant|>\"\n",
        "\n",
        "    return prompt\n",
        "\n"
      ],
      "metadata": {
        "id": "VlJYNKdAFsZ7"
      },
      "execution_count": null,
      "outputs": []
    },
    {
      "cell_type": "code",
      "source": [
        "# alınan promptu Llama-3 modeline gönderme\n",
        "# amaç LLaMA 3 dil modelini kullanmak ve API üzerinden cevap almak\n",
        "\n",
        "def query_llama(prompt):\n",
        "  max_retries = 5\n",
        "  retry_delay = 10\n",
        "\n",
        "  for attempt in range(max_retries):\n",
        "    try:\n",
        "      response = requests.post(\n",
        "          API_URL,\n",
        "          headers = headers,\n",
        "          json = {\"inputs\": prompt, \"parameters: {\"max_new_tokens}: 2048\"}\n",
        "\n",
        "      )\n",
        "\n",
        "      if response.status_code == 200:\n",
        "        return response.json()[0][\"generated_text\"].split(\"<|assistant|>\")[-1].strip()\n",
        "      elif response.status_code == 503:\n",
        "        print(f\"Model is loading. Retrying in {retry_delay} seconds...\")\n",
        "        time.sleep(retry_delay)\n",
        "      else:\n",
        "        print(f\"Error:\" {response.status_code}, {response.text})\n",
        "        return f\"Error: response.status_code{})\n",
        "\n",
        "    except Exception as e:\n",
        "      print(f\"Request error: {str(e)}\")\n",
        "      if attempt < max_retries -1:\n",
        "        print(f\"Retrying in {retry_delay} seconds...\")\n",
        "        time.sleep(retry_delay)\n",
        "      else.\n",
        "      return f\"Failed after {max_retries} attempts: {str(e)}\"\n",
        "  return \"Failed to get response from the model.\"\n",
        "\n",
        "\n",
        "\n"
      ],
      "metadata": {
        "id": "UdsxvcZWHNTT"
      },
      "execution_count": null,
      "outputs": []
    },
    {
      "cell_type": "code",
      "source": [
        "# transkiptin akademik ders içeriğine dönüştürülmesi\n",
        "def transform_transcript(pdf_file, lecture_length = \"30min\"):\n",
        "  # metni ayrıştırma ve temizleme\n",
        "  raw_text = extract_text_from_pdf(pdf_file)\n",
        "  cleaned_text = clean_text(raw_text)\n",
        "\n",
        "  # metni parçalara ayırma\n",
        "  chunks = chunk_text(cleaned_text)\n",
        "\n",
        "  results = []\n",
        "  for i , chunk in enumarate(tqdm(chunks)):\n",
        "    is_first = (i ==0)\n",
        "    is_last = (i == len(chunks) -1 )\n",
        "\n",
        "    prompt = create_educational_prompt(chunk, is_first, is_last)\n",
        "    response = querly_llama(prompt)\n",
        "    results.append(response)\n",
        "\n",
        "    if i < len(chunks) -1 :\n",
        "      time.sleep(2)\n",
        "\n",
        "    # her chunk için alınan result'ları birleştirme.\n",
        "    combined_result = \"\\n\".join(results)\n",
        "\n",
        "    if lecture_length == \"30min\":\n",
        "      target_words = 3900\n",
        "    else: # 60 min kısım için\n",
        "      target_words = 9000\n",
        "\n",
        "    refinement_prompts = f\"\"\"\n",
        "    <|system|>\n",
        "    You are an expert educational content developer. Review and refine the educational transcript below to create a cohesive, well-structured lecture.\n",
        "\n",
        "    Your task is to:\n",
        "    1. Ensure logical flow and consistent formatting\n",
        "    2. Eliminate any redundancies or repetitions\n",
        "    3. Add clear section headings and transitions\n",
        "    4. Format the content appropriately for a {lecture_length} lecture (approximately {target_words} words)\n",
        "    5. Add an introduction with learning objectives and a conclusion with key takeaways\n",
        "\n",
        "    Create a professional, educational transcript that could be used directly by an instructor.\n",
        "\n",
        "    <|user|>\n",
        "    Please refine this draft educational transcript:\n",
        "\n",
        "    {combined_result}\n",
        "\n",
        "    <|assistant|>\n",
        "    \"\"\"\n",
        "\n",
        "    # son halini alıyoruz\n",
        "    final_result = query_llama(refinement_prompt)\n",
        "\n",
        "    return final_result\n",
        "\n"
      ],
      "metadata": {
        "id": "1Bng_NCUJ8NF"
      },
      "execution_count": null,
      "outputs": []
    },
    {
      "cell_type": "markdown",
      "source": [
        "**User Interface Kısmı**\n"
      ],
      "metadata": {
        "id": "i5kqt5yCLp71"
      }
    },
    {
      "cell_type": "code",
      "source": [
        "def process_pdf(pdf_file, lecture_length):\n",
        "  if pdf_file is None:\n",
        "    return \"Please upload a PDF file.\"\n",
        "\n",
        "  try:\n",
        "    result = trnasform_transcript(pdf_file.name, lecture_length)\n",
        "    return result\n",
        "\n",
        "  except Exeption as e:\n",
        "    return f\"An error occured: {str(e)}\"\n",
        "\n",
        "# arayüzün tanımlanması\n",
        "demo = gr.Inetrface(\n",
        "    fn = process_pdf,\n",
        "    inputs = [\n",
        "        gr.File(label = \"Upload PDF Transcript\"),\n",
        "        gr.Radio(label = \"Lecture Length\", choices = [\"30min\", \"60min\"], value = \"30min\")\n",
        "\n",
        "    ],\n",
        "    outputs = gr.Textbox(label = \"Educational Transcript\", lines = 20),\n",
        "    title = \"PDF Transcript to Educational Content Converter\",\n",
        "    description = \"Upload a PDF transcript to transform it into structured educational content suitable for classroom teaching.\",\n",
        "    examples = [],\n",
        "    cache_examples = False,\n",
        ")\n",
        "\n"
      ],
      "metadata": {
        "id": "Z3mKkxlELyhP"
      },
      "execution_count": null,
      "outputs": []
    },
    {
      "cell_type": "markdown",
      "source": [
        "**Uygulamanın başlatılması**"
      ],
      "metadata": {
        "id": "N5wdVnUJNITP"
      }
    },
    {
      "cell_type": "code",
      "source": [
        "if __name__ == \"__main__\":\n",
        "  demo.launch(share = True)"
      ],
      "metadata": {
        "id": "U3PCyOWoNLNU"
      },
      "execution_count": null,
      "outputs": []
    }
  ]
}